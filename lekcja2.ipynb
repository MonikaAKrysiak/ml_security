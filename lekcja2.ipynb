{
  "nbformat": 4,
  "nbformat_minor": 0,
  "metadata": {
    "kernelspec": {
      "display_name": "Python 3",
      "language": "python",
      "name": "python3"
    },
    "language_info": {
      "codemirror_mode": {
        "name": "ipython",
        "version": 3
      },
      "file_extension": ".py",
      "mimetype": "text/x-python",
      "name": "python",
      "nbconvert_exporter": "python",
      "pygments_lexer": "ipython3",
      "version": "3.7.4"
    },
    "colab": {
      "name": "lesson0.1.ipynb",
      "provenance": [],
      "include_colab_link": true
    }
  },
  "cells": [
    {
      "cell_type": "markdown",
      "metadata": {
        "id": "view-in-github",
        "colab_type": "text"
      },
      "source": [
        "<a href=\"https://colab.research.google.com/github/monsad/ml_security/blob/master/lekcja2.ipynb\" target=\"_parent\"><img src=\"https://colab.research.google.com/assets/colab-badge.svg\" alt=\"Open In Colab\"/></a>"
      ]
    },
    {
      "cell_type": "markdown",
      "metadata": {
        "id": "0ZXzaXSlPz8O",
        "colab_type": "text"
      },
      "source": [
        " Lekcja 2 - Jupyter\n",
        "\n",
        "\n",
        "Cześć!\n",
        "\n",
        "Jupyter to narzędzie, które w tej chwili widzisz w swojej przeglądarce. Stało się ono standardowym środowiskiem do pracy specjalistów ML, w szczególności jeśli mówimy o robieniu prototypów.\n",
        "W tym module najważniejsze jest pokazanie, jak należy używać `jupyter` (np. uruchomić kod w komórce itd). N"
      ]
    },
    {
      "cell_type": "markdown",
      "metadata": {
        "id": "IaXzsovCPz8R",
        "colab_type": "text"
      },
      "source": [
        "# Komórki\n",
        "Istnieją dwa rodzaje komórek:\n",
        "* kod (domyślnie Python, ale mogą też być inne języki)\n",
        "* tekst (komentarz, który może zawierać *markdown/html*, np. zdjęcia, video itd)\n",
        "\n",
        "## Hello world!"
      ]
    },
    {
      "cell_type": "code",
      "metadata": {
        "id": "jrxbRciiPz8S",
        "colab_type": "code",
        "colab": {
          "base_uri": "https://localhost:8080/",
          "height": 34
        },
        "outputId": "b0ff0758-f3e9-4c79-d5c7-37a3ffb1430a"
      },
      "source": [
        "print(\"Hello world!\")"
      ],
      "execution_count": 1,
      "outputs": [
        {
          "output_type": "stream",
          "text": [
            "Hello world!\n"
          ],
          "name": "stdout"
        }
      ]
    },
    {
      "cell_type": "markdown",
      "metadata": {
        "id": "Mc11_0yxPz8Z",
        "colab_type": "text"
      },
      "source": [
        "## Popularne polecenia\n",
        "* `Shift + Enter` - uruchomienie komórki i przejście do kolejnej\n",
        "* `ESC + A` lub `CTRL + M + A` - dodanie nowej komórki powyżej obecnej (*A* od *\"above\"*)\n",
        "* `ESC + B` lub `CTRL + M + B` - dodanie nowej komórki poniżej obecnej (*B* od *\"below\"*)\n",
        "* `ESC + X` lub `CTRL + M + X` - wycięcie komórki\n",
        "* `ESC + H` lub `CTRL + M + H` - wszystkie skróty"
      ]
    },
    {
      "cell_type": "markdown",
      "metadata": {
        "id": "YDX5yXgMPz8g",
        "colab_type": "text"
      },
      "source": [
        "## Zapis kodu do pliku \n",
        "Poniżej widać, jak powstaje plik. W tym przypadku jest z nazwą `fe.py` i zawiera całą zawartość uruchomionej komórki. To może się przydać trochę później, więc zapamiętaj, że jest taka możliwość :)."
      ]
    },
    {
      "cell_type": "code",
      "metadata": {
        "id": "RpNWKKxWPz8h",
        "colab_type": "code",
        "colab": {}
      },
      "source": [
        "%%writefile fe.py\n",
        "\n",
        "def feature_engineering(data):\n",
        "    data['year'] = data['datetime'].dt.year\n",
        "    data['diff_year'] = data['year'] - 2010\n",
        "    data['month'] = data['datetime'].dt.month\n",
        "    data['day'] = data['datetime'].dt.day\n",
        "    data['hour'] = data['datetime'].dt.hour\n",
        "    data['minute'] = data['datetime'].dt.minute\n",
        "    data['dayofweek'] = data['datetime'].dt.dayofweek\n",
        "    data['weekofyear'] = data['datetime'].dt.weekofyear\n",
        "    data['weekend'] = data.dayofweek.map(lambda x: int(x in [5,6]) )\n",
        "    data['time_of_day'] = data['hour'].map(cat_hour)\n",
        "    \n",
        "    data['dayofyear'] = data['datetime'].dt.dayofyear\n",
        "    data['day_'] = data[ ['year', 'dayofyear'] ].apply(lambda x: x['dayofyear'] + int(str(x['year'])[-1]) * 365  , axis=1)\n",
        "    \n",
        "    data['rush_hour'] = data['datetime'].apply(lambda i: min([np.fabs(9-i.hour), np.fabs(20-i.hour)]))\n",
        "    data.loc[:,('rush_hour')] = data['datetime'].apply(lambda i: np.fabs(14-i.hour))\n",
        "    data.loc[data['workingday'] != 0].loc[:,('rush_hour')] = 0\n",
        "    \n",
        "    data['holiday'] = data[['month', 'day', 'holiday', 'year']].apply(lambda x: (x['holiday'], 1)[x['year'] == 2012 and x['month'] == 10 and (x['day'] in [30])], axis = 1)\n",
        "    data['holiday'] = data[['month', 'day', 'holiday']].apply(lambda x: (x['holiday'], 1)[x['month'] == 12 and (x['day'] in [24, 26, 31])], axis = 1)\n",
        "    \n",
        "    data['workingday'] = data[['month', 'day', 'workingday']].apply(lambda x: (x['workingday'], 0)[x['month'] == 12 and x['day'] in [24, 31]], axis = 1)\n",
        "    data['peak'] = data[['hour', 'workingday']].apply(lambda x: (0, 1)[(x['workingday'] == 1 and  ( x['hour'] == 8 or 17 <= x['hour'] <= 18 or 12 <= x['hour'] <= 12)) or (x['workingday'] == 0 and  10 <= x['hour'] <= 19)], axis = 1)\n",
        "    data['sticky'] = data[['humidity', 'workingday']].apply(lambda x: (0, 1)[x['workingday'] == 1 and x['humidity'] >= 60], axis = 1)\n",
        "\n",
        "    return data\n",
        "\n",
        "print(\"done\")"
      ],
      "execution_count": 0,
      "outputs": []
    },
    {
      "cell_type": "code",
      "metadata": {
        "id": "xrDBnkiPPz8l",
        "colab_type": "code",
        "colab": {}
      },
      "source": [
        "%pycat fe.py"
      ],
      "execution_count": 0,
      "outputs": []
    },
    {
      "cell_type": "code",
      "metadata": {
        "id": "MZUI8sChPz8o",
        "colab_type": "code",
        "colab": {}
      },
      "source": [
        "%run fe.py"
      ],
      "execution_count": 0,
      "outputs": []
    },
    {
      "cell_type": "markdown",
      "metadata": {
        "id": "W6ypqQ8NPz8r",
        "colab_type": "text"
      },
      "source": [
        "## Interaktywny postęp\n",
        "Zrobienie paska postępu jest proste, wystarczy zastosować w tym celu funkcję `tqdm`. "
      ]
    },
    {
      "cell_type": "code",
      "metadata": {
        "id": "F1dmjdQuPz8s",
        "colab_type": "code",
        "colab": {
          "base_uri": "https://localhost:8080/",
          "height": 34
        },
        "outputId": "dd46741f-1d54-4577-debb-a07e152dedd1"
      },
      "source": [
        "from tqdm import tqdm\n",
        "import time\n",
        "\n",
        "for i in tqdm(range(100)):\n",
        "    time.sleep(0.1)"
      ],
      "execution_count": 2,
      "outputs": [
        {
          "output_type": "stream",
          "text": [
            "100%|██████████| 100/100 [00:10<00:00,  9.90it/s]\n"
          ],
          "name": "stderr"
        }
      ]
    }
  ]
}