{
  "nbformat": 4,
  "nbformat_minor": 0,
  "metadata": {
    "colab": {
      "name": "redTeam.ipynb",
      "provenance": [],
      "machine_shape": "hm",
      "authorship_tag": "ABX9TyOIm1/4neAoKGnSmvdFhybS",
      "include_colab_link": true
    },
    "kernelspec": {
      "name": "python3",
      "display_name": "Python 3"
    }
  },
  "cells": [
    {
      "cell_type": "markdown",
      "metadata": {
        "id": "view-in-github",
        "colab_type": "text"
      },
      "source": [
        "<a href=\"https://colab.research.google.com/github/monsad/ml_security/blob/master/redTeam.ipynb\" target=\"_parent\"><img src=\"https://colab.research.google.com/assets/colab-badge.svg\" alt=\"Open In Colab\"/></a>"
      ]
    },
    {
      "cell_type": "code",
      "metadata": {
        "id": "AWbBL3vvknt8",
        "colab_type": "code",
        "colab": {}
      },
      "source": [
        "from __future__ import print_function\n",
        "import keras\n",
        "from keras.datasets import mnist\n",
        "from keras.models import Sequential\n",
        "from keras.layers import Dense, Dropout, Flatten\n",
        "from keras.layers import Conv2D, MaxPooling2D\n",
        "from keras import backend as K\n",
        "\n",
        "import numpy as np\n"
      ],
      "execution_count": 0,
      "outputs": []
    },
    {
      "cell_type": "code",
      "metadata": {
        "id": "MdiOGzF2ksCD",
        "colab_type": "code",
        "colab": {}
      },
      "source": [
        "batch_size = 128\n",
        "num_classes = 10\n",
        "epochs = 1 \n",
        "\n",
        "img_rows, img_cols = 28, 28\n",
        "(X_train, y_train), (X_test, y_test) = mnist.load_data()\n",
        "y_train[:3000]=np.random.randint(10, size=3000)"
      ],
      "execution_count": 0,
      "outputs": []
    },
    {
      "cell_type": "code",
      "metadata": {
        "id": "g5HLABGDrClV",
        "colab_type": "code",
        "colab": {}
      },
      "source": [
        "def unison_shuffled_copies(a, b):\n",
        "  assert len(a) == len(b)\n",
        "  p = np.random.permutation(len(a))\n",
        "  return a[p], b[p]\n",
        "X_train, y_train = unison_shuffled_copies(X_train,y_train)"
      ],
      "execution_count": 0,
      "outputs": []
    },
    {
      "cell_type": "code",
      "metadata": {
        "id": "2E2KdPg3rcw1",
        "colab_type": "code",
        "colab": {}
      },
      "source": [
        "def preprocess(X):\n",
        "  X = X.reshape(X.shape[0], img_rows, img_cols, 1)\n",
        "  X = X.astype('float32')\n",
        "  X /= 255\n",
        "  return X\n"
      ],
      "execution_count": 0,
      "outputs": []
    },
    {
      "cell_type": "code",
      "metadata": {
        "id": "m2NOxlOesAF8",
        "colab_type": "code",
        "colab": {
          "base_uri": "https://localhost:8080/",
          "height": 51
        },
        "outputId": "4a293a7b-05cf-41ba-9cac-aa86527b334c"
      },
      "source": [
        "X_train = preprocess(X_train)\n",
        "input_shape = (img_rows, img_cols, 1)\n",
        "\n",
        "y_train = keras.utils.to_categorical(y_train, num_classes)\n",
        "\n",
        "model = Sequential()\n",
        "model.add(Conv2D(32, kernel_size=(3, 3),\n",
        "                 activation='relu',\n",
        "                 input_shape=input_shape))\n",
        "model.add(Conv2D(64, (3, 3), activation='relu'))\n",
        "model.add(MaxPooling2D(pool_size=(2, 2)))\n",
        "model.add(Dropout(0.25))\n",
        "model.add(Flatten())\n",
        "model.add(Dense(128, activation='relu'))\n",
        "model.add(Dropout(0.5))\n",
        "model.add(Dense(num_classes, activation='softmax'))\n",
        "\n",
        "model.compile(loss=keras.losses.categorical_crossentropy,\n",
        "              optimizer=keras.optimizers.Adadelta(),\n",
        "              metrics=['accuracy'])\n",
        "model.fit(X_train, y_train,\n",
        "          batch_size=batch_size,\n",
        "          epochs=epochs,\n",
        "          verbose=1)\n",
        "\n",
        "X_test=preprocess(X_test)\n",
        "y_test = keras.utils.to_categorical(y_test,num_classes)\n",
        "score = model.evaluate(X_test, y_test, verbose=0)\n",
        "\n",
        "print('Accuracy:', score[1])"
      ],
      "execution_count": 0,
      "outputs": [
        {
          "output_type": "stream",
          "text": [
            "Epoch 1/1\n",
            "26112/60000 [============>.................] - ETA: 52s - loss: 0.7062 - acc: 0.8325"
          ],
          "name": "stdout"
        }
      ]
    },
    {
      "cell_type": "code",
      "metadata": {
        "id": "wtL1UaXguYH8",
        "colab_type": "code",
        "colab": {}
      },
      "source": [
        ""
      ],
      "execution_count": 0,
      "outputs": []
    }
  ]
}